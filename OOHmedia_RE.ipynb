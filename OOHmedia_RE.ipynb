{
 "cells": [
  {
   "cell_type": "markdown",
   "metadata": {},
   "source": [
    "Audience-Based Targeting – Recommend billboards/digital screens based on demographics, location, and past impressions.\n",
    "Contextual Recommendations – Suggest ad placements based on weather, time of day, traffic patterns, and events.\n",
    "Performance-Based Recommendations – Prioritize locations based on CTR (Click-Through Rate), engagement, and past ad effectiveness\n",
    "Advertiser Budget Optimization – Allocate ad spend efficiently across high-performing locations.\n",
    "Competitor Analysis – Recommend OOH spots based on competitor placements and their effectiveness.\n",
    "Cross-Channel Integration – Suggest locations that complement digital, TV, or social media campaigns."
   ]
  },
  {
   "cell_type": "markdown",
   "metadata": {},
   "source": []
  },
  {
   "cell_type": "markdown",
   "metadata": {},
   "source": [
    "#### Cosine similarity between locations recommend billboards/digital screens based on demographics"
   ]
  },
  {
   "cell_type": "code",
   "execution_count": 1,
   "metadata": {},
   "outputs": [],
   "source": [
    "import pandas as pd\n",
    "import numpy as np"
   ]
  },
  {
   "cell_type": "code",
   "execution_count": 2,
   "metadata": {},
   "outputs": [],
   "source": [
    "np.random.seed(123)"
   ]
  },
  {
   "cell_type": "code",
   "execution_count": 3,
   "metadata": {},
   "outputs": [],
   "source": [
    "num_locations = 10\n",
    "df = pd.DataFrame({\n",
    "    'Billboard_ID': [f'B{i+1}' for i in range(num_locations)],\n",
    "    'Latitude': np.random.uniform(37.0, 38.0, num_locations),\n",
    "    'Longitude': np.random.uniform(-122.0, -121.0, num_locations),\n",
    "    'Traffic_Volume': np.random.randint(5000, 50000, num_locations),\n",
    "    'Footfall': np.random.randint(1000, 20000, num_locations),\n",
    "    'CTR': np.random.uniform(0.5, 5, num_locations),  # Click-through rate\n",
    "    'Cost_Per_Impression': np.random.uniform(0.01, 0.1, num_locations),\n",
    "    'Competitor_Ads': np.random.choice([0, 1], num_locations)  # 1: Competitor present, 0: Not\n",
    "})"
   ]
  },
  {
   "cell_type": "code",
   "execution_count": 4,
   "metadata": {},
   "outputs": [
    {
     "data": {
      "text/html": [
       "<div>\n",
       "<style scoped>\n",
       "    .dataframe tbody tr th:only-of-type {\n",
       "        vertical-align: middle;\n",
       "    }\n",
       "\n",
       "    .dataframe tbody tr th {\n",
       "        vertical-align: top;\n",
       "    }\n",
       "\n",
       "    .dataframe thead th {\n",
       "        text-align: right;\n",
       "    }\n",
       "</style>\n",
       "<table border=\"1\" class=\"dataframe\">\n",
       "  <thead>\n",
       "    <tr style=\"text-align: right;\">\n",
       "      <th></th>\n",
       "      <th>Billboard_ID</th>\n",
       "      <th>Latitude</th>\n",
       "      <th>Longitude</th>\n",
       "      <th>Traffic_Volume</th>\n",
       "      <th>Footfall</th>\n",
       "      <th>CTR</th>\n",
       "      <th>Cost_Per_Impression</th>\n",
       "      <th>Competitor_Ads</th>\n",
       "    </tr>\n",
       "  </thead>\n",
       "  <tbody>\n",
       "    <tr>\n",
       "      <th>0</th>\n",
       "      <td>B1</td>\n",
       "      <td>37.696469</td>\n",
       "      <td>-121.656822</td>\n",
       "      <td>11648</td>\n",
       "      <td>12894</td>\n",
       "      <td>1.193370</td>\n",
       "      <td>0.071494</td>\n",
       "      <td>1</td>\n",
       "    </tr>\n",
       "    <tr>\n",
       "      <th>1</th>\n",
       "      <td>B2</td>\n",
       "      <td>37.286139</td>\n",
       "      <td>-121.270950</td>\n",
       "      <td>27461</td>\n",
       "      <td>3338</td>\n",
       "      <td>0.846889</td>\n",
       "      <td>0.092503</td>\n",
       "      <td>1</td>\n",
       "    </tr>\n",
       "    <tr>\n",
       "      <th>2</th>\n",
       "      <td>B3</td>\n",
       "      <td>37.226851</td>\n",
       "      <td>-121.561428</td>\n",
       "      <td>28728</td>\n",
       "      <td>17972</td>\n",
       "      <td>4.504396</td>\n",
       "      <td>0.019804</td>\n",
       "      <td>0</td>\n",
       "    </tr>\n",
       "    <tr>\n",
       "      <th>3</th>\n",
       "      <td>B4</td>\n",
       "      <td>37.551315</td>\n",
       "      <td>-121.940322</td>\n",
       "      <td>22543</td>\n",
       "      <td>10896</td>\n",
       "      <td>3.876704</td>\n",
       "      <td>0.054594</td>\n",
       "      <td>0</td>\n",
       "    </tr>\n",
       "    <tr>\n",
       "      <th>4</th>\n",
       "      <td>B5</td>\n",
       "      <td>37.719469</td>\n",
       "      <td>-121.601956</td>\n",
       "      <td>9195</td>\n",
       "      <td>13394</td>\n",
       "      <td>3.620315</td>\n",
       "      <td>0.030955</td>\n",
       "      <td>1</td>\n",
       "    </tr>\n",
       "    <tr>\n",
       "      <th>5</th>\n",
       "      <td>B6</td>\n",
       "      <td>37.423106</td>\n",
       "      <td>-121.262005</td>\n",
       "      <td>7428</td>\n",
       "      <td>18221</td>\n",
       "      <td>2.802935</td>\n",
       "      <td>0.049317</td>\n",
       "      <td>1</td>\n",
       "    </tr>\n",
       "    <tr>\n",
       "      <th>6</th>\n",
       "      <td>B7</td>\n",
       "      <td>37.980764</td>\n",
       "      <td>-121.817508</td>\n",
       "      <td>13028</td>\n",
       "      <td>3624</td>\n",
       "      <td>2.589206</td>\n",
       "      <td>0.077639</td>\n",
       "      <td>0</td>\n",
       "    </tr>\n",
       "    <tr>\n",
       "      <th>7</th>\n",
       "      <td>B8</td>\n",
       "      <td>37.684830</td>\n",
       "      <td>-121.824548</td>\n",
       "      <td>8252</td>\n",
       "      <td>2442</td>\n",
       "      <td>3.057938</td>\n",
       "      <td>0.053280</td>\n",
       "      <td>1</td>\n",
       "    </tr>\n",
       "    <tr>\n",
       "      <th>8</th>\n",
       "      <td>B9</td>\n",
       "      <td>37.480932</td>\n",
       "      <td>-121.468449</td>\n",
       "      <td>22766</td>\n",
       "      <td>10018</td>\n",
       "      <td>1.861473</td>\n",
       "      <td>0.081796</td>\n",
       "      <td>1</td>\n",
       "    </tr>\n",
       "    <tr>\n",
       "      <th>9</th>\n",
       "      <td>B10</td>\n",
       "      <td>37.392118</td>\n",
       "      <td>-121.468172</td>\n",
       "      <td>33513</td>\n",
       "      <td>10610</td>\n",
       "      <td>2.737890</td>\n",
       "      <td>0.035443</td>\n",
       "      <td>1</td>\n",
       "    </tr>\n",
       "  </tbody>\n",
       "</table>\n",
       "</div>"
      ],
      "text/plain": [
       "  Billboard_ID   Latitude   Longitude  Traffic_Volume  Footfall       CTR  \\\n",
       "0           B1  37.696469 -121.656822           11648     12894  1.193370   \n",
       "1           B2  37.286139 -121.270950           27461      3338  0.846889   \n",
       "2           B3  37.226851 -121.561428           28728     17972  4.504396   \n",
       "3           B4  37.551315 -121.940322           22543     10896  3.876704   \n",
       "4           B5  37.719469 -121.601956            9195     13394  3.620315   \n",
       "5           B6  37.423106 -121.262005            7428     18221  2.802935   \n",
       "6           B7  37.980764 -121.817508           13028      3624  2.589206   \n",
       "7           B8  37.684830 -121.824548            8252      2442  3.057938   \n",
       "8           B9  37.480932 -121.468449           22766     10018  1.861473   \n",
       "9          B10  37.392118 -121.468172           33513     10610  2.737890   \n",
       "\n",
       "   Cost_Per_Impression  Competitor_Ads  \n",
       "0             0.071494               1  \n",
       "1             0.092503               1  \n",
       "2             0.019804               0  \n",
       "3             0.054594               0  \n",
       "4             0.030955               1  \n",
       "5             0.049317               1  \n",
       "6             0.077639               0  \n",
       "7             0.053280               1  \n",
       "8             0.081796               1  \n",
       "9             0.035443               1  "
      ]
     },
     "execution_count": 4,
     "metadata": {},
     "output_type": "execute_result"
    }
   ],
   "source": [
    "df"
   ]
  },
  {
   "cell_type": "code",
   "execution_count": 5,
   "metadata": {},
   "outputs": [],
   "source": [
    "from sklearn.metrics.pairwise import cosine_similarity\n",
    "from sklearn.preprocessing import MinMaxScaler"
   ]
  },
  {
   "cell_type": "code",
   "execution_count": 7,
   "metadata": {},
   "outputs": [],
   "source": [
    "scaler = MinMaxScaler()"
   ]
  },
  {
   "cell_type": "code",
   "execution_count": 8,
   "metadata": {},
   "outputs": [],
   "source": [
    "df_scaled = scaler.fit_transform(df.drop(columns= ['Billboard_ID']))"
   ]
  },
  {
   "cell_type": "code",
   "execution_count": 11,
   "metadata": {},
   "outputs": [],
   "source": [
    "billboard_similarity = cosine_similarity(df_scaled)"
   ]
  },
  {
   "cell_type": "code",
   "execution_count": 12,
   "metadata": {},
   "outputs": [],
   "source": [
    "similarity_df = pd.DataFrame(billboard_similarity, index = df['Billboard_ID'], columns= df['Billboard_ID'])"
   ]
  },
  {
   "cell_type": "code",
   "execution_count": 13,
   "metadata": {},
   "outputs": [
    {
     "data": {
      "text/html": [
       "<div>\n",
       "<style scoped>\n",
       "    .dataframe tbody tr th:only-of-type {\n",
       "        vertical-align: middle;\n",
       "    }\n",
       "\n",
       "    .dataframe tbody tr th {\n",
       "        vertical-align: top;\n",
       "    }\n",
       "\n",
       "    .dataframe thead th {\n",
       "        text-align: right;\n",
       "    }\n",
       "</style>\n",
       "<table border=\"1\" class=\"dataframe\">\n",
       "  <thead>\n",
       "    <tr style=\"text-align: right;\">\n",
       "      <th>Billboard_ID</th>\n",
       "      <th>B1</th>\n",
       "      <th>B2</th>\n",
       "      <th>B3</th>\n",
       "      <th>B4</th>\n",
       "      <th>B5</th>\n",
       "      <th>B6</th>\n",
       "      <th>B7</th>\n",
       "      <th>B8</th>\n",
       "      <th>B9</th>\n",
       "      <th>B10</th>\n",
       "    </tr>\n",
       "    <tr>\n",
       "      <th>Billboard_ID</th>\n",
       "      <th></th>\n",
       "      <th></th>\n",
       "      <th></th>\n",
       "      <th></th>\n",
       "      <th></th>\n",
       "      <th></th>\n",
       "      <th></th>\n",
       "      <th></th>\n",
       "      <th></th>\n",
       "      <th></th>\n",
       "    </tr>\n",
       "  </thead>\n",
       "  <tbody>\n",
       "    <tr>\n",
       "      <th>B1</th>\n",
       "      <td>1.000000</td>\n",
       "      <td>0.774528</td>\n",
       "      <td>0.406323</td>\n",
       "      <td>0.542491</td>\n",
       "      <td>0.855792</td>\n",
       "      <td>0.863256</td>\n",
       "      <td>0.626883</td>\n",
       "      <td>0.820615</td>\n",
       "      <td>0.925498</td>\n",
       "      <td>0.758476</td>\n",
       "    </tr>\n",
       "    <tr>\n",
       "      <th>B2</th>\n",
       "      <td>0.774528</td>\n",
       "      <td>1.000000</td>\n",
       "      <td>0.380318</td>\n",
       "      <td>0.398099</td>\n",
       "      <td>0.569453</td>\n",
       "      <td>0.696630</td>\n",
       "      <td>0.463623</td>\n",
       "      <td>0.640041</td>\n",
       "      <td>0.933367</td>\n",
       "      <td>0.814417</td>\n",
       "    </tr>\n",
       "    <tr>\n",
       "      <th>B3</th>\n",
       "      <td>0.406323</td>\n",
       "      <td>0.380318</td>\n",
       "      <td>1.000000</td>\n",
       "      <td>0.811482</td>\n",
       "      <td>0.622383</td>\n",
       "      <td>0.645139</td>\n",
       "      <td>0.345266</td>\n",
       "      <td>0.300637</td>\n",
       "      <td>0.546363</td>\n",
       "      <td>0.736677</td>\n",
       "    </tr>\n",
       "    <tr>\n",
       "      <th>B4</th>\n",
       "      <td>0.542491</td>\n",
       "      <td>0.398099</td>\n",
       "      <td>0.811482</td>\n",
       "      <td>1.000000</td>\n",
       "      <td>0.639068</td>\n",
       "      <td>0.521890</td>\n",
       "      <td>0.748576</td>\n",
       "      <td>0.542305</td>\n",
       "      <td>0.609569</td>\n",
       "      <td>0.639905</td>\n",
       "    </tr>\n",
       "    <tr>\n",
       "      <th>B5</th>\n",
       "      <td>0.855792</td>\n",
       "      <td>0.569453</td>\n",
       "      <td>0.622383</td>\n",
       "      <td>0.639068</td>\n",
       "      <td>1.000000</td>\n",
       "      <td>0.908284</td>\n",
       "      <td>0.558324</td>\n",
       "      <td>0.861840</td>\n",
       "      <td>0.795709</td>\n",
       "      <td>0.798939</td>\n",
       "    </tr>\n",
       "    <tr>\n",
       "      <th>B6</th>\n",
       "      <td>0.863256</td>\n",
       "      <td>0.696630</td>\n",
       "      <td>0.645139</td>\n",
       "      <td>0.521890</td>\n",
       "      <td>0.908284</td>\n",
       "      <td>1.000000</td>\n",
       "      <td>0.418270</td>\n",
       "      <td>0.697343</td>\n",
       "      <td>0.852050</td>\n",
       "      <td>0.795914</td>\n",
       "    </tr>\n",
       "    <tr>\n",
       "      <th>B7</th>\n",
       "      <td>0.626883</td>\n",
       "      <td>0.463623</td>\n",
       "      <td>0.345266</td>\n",
       "      <td>0.748576</td>\n",
       "      <td>0.558324</td>\n",
       "      <td>0.418270</td>\n",
       "      <td>1.000000</td>\n",
       "      <td>0.662855</td>\n",
       "      <td>0.596658</td>\n",
       "      <td>0.412955</td>\n",
       "    </tr>\n",
       "    <tr>\n",
       "      <th>B8</th>\n",
       "      <td>0.820615</td>\n",
       "      <td>0.640041</td>\n",
       "      <td>0.300637</td>\n",
       "      <td>0.542305</td>\n",
       "      <td>0.861840</td>\n",
       "      <td>0.697343</td>\n",
       "      <td>0.662855</td>\n",
       "      <td>1.000000</td>\n",
       "      <td>0.784121</td>\n",
       "      <td>0.683254</td>\n",
       "    </tr>\n",
       "    <tr>\n",
       "      <th>B9</th>\n",
       "      <td>0.925498</td>\n",
       "      <td>0.933367</td>\n",
       "      <td>0.546363</td>\n",
       "      <td>0.609569</td>\n",
       "      <td>0.795709</td>\n",
       "      <td>0.852050</td>\n",
       "      <td>0.596658</td>\n",
       "      <td>0.784121</td>\n",
       "      <td>1.000000</td>\n",
       "      <td>0.893695</td>\n",
       "    </tr>\n",
       "    <tr>\n",
       "      <th>B10</th>\n",
       "      <td>0.758476</td>\n",
       "      <td>0.814417</td>\n",
       "      <td>0.736677</td>\n",
       "      <td>0.639905</td>\n",
       "      <td>0.798939</td>\n",
       "      <td>0.795914</td>\n",
       "      <td>0.412955</td>\n",
       "      <td>0.683254</td>\n",
       "      <td>0.893695</td>\n",
       "      <td>1.000000</td>\n",
       "    </tr>\n",
       "  </tbody>\n",
       "</table>\n",
       "</div>"
      ],
      "text/plain": [
       "Billboard_ID        B1        B2        B3        B4        B5        B6  \\\n",
       "Billboard_ID                                                               \n",
       "B1            1.000000  0.774528  0.406323  0.542491  0.855792  0.863256   \n",
       "B2            0.774528  1.000000  0.380318  0.398099  0.569453  0.696630   \n",
       "B3            0.406323  0.380318  1.000000  0.811482  0.622383  0.645139   \n",
       "B4            0.542491  0.398099  0.811482  1.000000  0.639068  0.521890   \n",
       "B5            0.855792  0.569453  0.622383  0.639068  1.000000  0.908284   \n",
       "B6            0.863256  0.696630  0.645139  0.521890  0.908284  1.000000   \n",
       "B7            0.626883  0.463623  0.345266  0.748576  0.558324  0.418270   \n",
       "B8            0.820615  0.640041  0.300637  0.542305  0.861840  0.697343   \n",
       "B9            0.925498  0.933367  0.546363  0.609569  0.795709  0.852050   \n",
       "B10           0.758476  0.814417  0.736677  0.639905  0.798939  0.795914   \n",
       "\n",
       "Billboard_ID        B7        B8        B9       B10  \n",
       "Billboard_ID                                          \n",
       "B1            0.626883  0.820615  0.925498  0.758476  \n",
       "B2            0.463623  0.640041  0.933367  0.814417  \n",
       "B3            0.345266  0.300637  0.546363  0.736677  \n",
       "B4            0.748576  0.542305  0.609569  0.639905  \n",
       "B5            0.558324  0.861840  0.795709  0.798939  \n",
       "B6            0.418270  0.697343  0.852050  0.795914  \n",
       "B7            1.000000  0.662855  0.596658  0.412955  \n",
       "B8            0.662855  1.000000  0.784121  0.683254  \n",
       "B9            0.596658  0.784121  1.000000  0.893695  \n",
       "B10           0.412955  0.683254  0.893695  1.000000  "
      ]
     },
     "execution_count": 13,
     "metadata": {},
     "output_type": "execute_result"
    }
   ],
   "source": [
    "similarity_df"
   ]
  },
  {
   "cell_type": "code",
   "execution_count": 15,
   "metadata": {},
   "outputs": [],
   "source": [
    "array = similarity_df.to_numpy()\n",
    "np.fill_diagonal(array, np.nan)\n",
    "sim_df = pd.DataFrame(array, index = df['Billboard_ID'], columns= df['Billboard_ID'])"
   ]
  },
  {
   "cell_type": "code",
   "execution_count": 18,
   "metadata": {},
   "outputs": [
    {
     "data": {
      "text/plain": [
       "Billboard_ID\n",
       "B1    B9\n",
       "B2    B9\n",
       "B3    B4\n",
       "B4    B3\n",
       "B5    B6\n",
       "dtype: object"
      ]
     },
     "execution_count": 18,
     "metadata": {},
     "output_type": "execute_result"
    }
   ],
   "source": [
    "sim_df.idxmax(axis = 1).head()"
   ]
  },
  {
   "cell_type": "markdown",
   "metadata": {},
   "source": [
    "Best locations for advertisers"
   ]
  },
  {
   "cell_type": "code",
   "execution_count": 19,
   "metadata": {},
   "outputs": [],
   "source": [
    "from sklearn.decomposition import TruncatedSVD"
   ]
  },
  {
   "cell_type": "code",
   "execution_count": 20,
   "metadata": {},
   "outputs": [],
   "source": [
    "interaction_matrix = np.random.randint(0,2,(5,num_locations))"
   ]
  },
  {
   "cell_type": "code",
   "execution_count": 21,
   "metadata": {},
   "outputs": [],
   "source": [
    "svd = TruncatedSVD(n_components= 2)"
   ]
  },
  {
   "cell_type": "code",
   "execution_count": 22,
   "metadata": {},
   "outputs": [],
   "source": [
    "advertiser_factors = svd.fit_transform(interaction_matrix)\n",
    "billboard_factors = svd.components_\n"
   ]
  },
  {
   "cell_type": "code",
   "execution_count": 23,
   "metadata": {},
   "outputs": [],
   "source": [
    "predicted_score = np.dot(advertiser_factors, billboard_factors)"
   ]
  },
  {
   "cell_type": "code",
   "execution_count": 25,
   "metadata": {},
   "outputs": [
    {
     "data": {
      "text/plain": [
       "array([[ 0.7811406 ,  0.41538654,  1.17757438,  1.14981188,  0.10980589,\n",
       "         0.57676449,  1.17757438,  1.14981188,  0.84794832,  0.10980589],\n",
       "       [ 0.48131862,  0.22237141,  0.75630524,  0.74073642, -0.00993076,\n",
       "         0.39643378,  0.75630524,  0.74073642,  0.5605654 , -0.00993076],\n",
       "       [ 0.5344726 ,  0.68442164,  0.439657  ,  0.40233436,  0.99987744,\n",
       "        -0.09457023,  0.439657  ,  0.40233436,  0.12631535,  0.99987744],\n",
       "       [ 0.65015345,  0.79310063,  0.57090667,  0.52731282,  1.12511841,\n",
       "        -0.06680772,  0.57090667,  0.52731282,  0.19840235,  1.12511841],\n",
       "       [ 0.86205709,  0.75727947,  1.0261887 ,  0.9818642 ,  0.81175882,\n",
       "         0.27118383,  1.0261887 ,  0.9818642 ,  0.59684702,  0.81175882]])"
      ]
     },
     "execution_count": 25,
     "metadata": {},
     "output_type": "execute_result"
    }
   ],
   "source": [
    "predicted_score"
   ]
  },
  {
   "cell_type": "code",
   "execution_count": 26,
   "metadata": {},
   "outputs": [],
   "source": [
    "predicted_df = pd.DataFrame(predicted_score, index = [f'Advertiser_{i+1}' for i in range(5)], columns=df['Billboard_ID'])"
   ]
  },
  {
   "cell_type": "code",
   "execution_count": 27,
   "metadata": {},
   "outputs": [
    {
     "data": {
      "text/html": [
       "<div>\n",
       "<style scoped>\n",
       "    .dataframe tbody tr th:only-of-type {\n",
       "        vertical-align: middle;\n",
       "    }\n",
       "\n",
       "    .dataframe tbody tr th {\n",
       "        vertical-align: top;\n",
       "    }\n",
       "\n",
       "    .dataframe thead th {\n",
       "        text-align: right;\n",
       "    }\n",
       "</style>\n",
       "<table border=\"1\" class=\"dataframe\">\n",
       "  <thead>\n",
       "    <tr style=\"text-align: right;\">\n",
       "      <th>Billboard_ID</th>\n",
       "      <th>B1</th>\n",
       "      <th>B2</th>\n",
       "      <th>B3</th>\n",
       "      <th>B4</th>\n",
       "      <th>B5</th>\n",
       "      <th>B6</th>\n",
       "      <th>B7</th>\n",
       "      <th>B8</th>\n",
       "      <th>B9</th>\n",
       "      <th>B10</th>\n",
       "    </tr>\n",
       "  </thead>\n",
       "  <tbody>\n",
       "    <tr>\n",
       "      <th>Advertiser_1</th>\n",
       "      <td>0.781141</td>\n",
       "      <td>0.415387</td>\n",
       "      <td>1.177574</td>\n",
       "      <td>1.149812</td>\n",
       "      <td>0.109806</td>\n",
       "      <td>0.576764</td>\n",
       "      <td>1.177574</td>\n",
       "      <td>1.149812</td>\n",
       "      <td>0.847948</td>\n",
       "      <td>0.109806</td>\n",
       "    </tr>\n",
       "    <tr>\n",
       "      <th>Advertiser_2</th>\n",
       "      <td>0.481319</td>\n",
       "      <td>0.222371</td>\n",
       "      <td>0.756305</td>\n",
       "      <td>0.740736</td>\n",
       "      <td>-0.009931</td>\n",
       "      <td>0.396434</td>\n",
       "      <td>0.756305</td>\n",
       "      <td>0.740736</td>\n",
       "      <td>0.560565</td>\n",
       "      <td>-0.009931</td>\n",
       "    </tr>\n",
       "    <tr>\n",
       "      <th>Advertiser_3</th>\n",
       "      <td>0.534473</td>\n",
       "      <td>0.684422</td>\n",
       "      <td>0.439657</td>\n",
       "      <td>0.402334</td>\n",
       "      <td>0.999877</td>\n",
       "      <td>-0.094570</td>\n",
       "      <td>0.439657</td>\n",
       "      <td>0.402334</td>\n",
       "      <td>0.126315</td>\n",
       "      <td>0.999877</td>\n",
       "    </tr>\n",
       "    <tr>\n",
       "      <th>Advertiser_4</th>\n",
       "      <td>0.650153</td>\n",
       "      <td>0.793101</td>\n",
       "      <td>0.570907</td>\n",
       "      <td>0.527313</td>\n",
       "      <td>1.125118</td>\n",
       "      <td>-0.066808</td>\n",
       "      <td>0.570907</td>\n",
       "      <td>0.527313</td>\n",
       "      <td>0.198402</td>\n",
       "      <td>1.125118</td>\n",
       "    </tr>\n",
       "    <tr>\n",
       "      <th>Advertiser_5</th>\n",
       "      <td>0.862057</td>\n",
       "      <td>0.757279</td>\n",
       "      <td>1.026189</td>\n",
       "      <td>0.981864</td>\n",
       "      <td>0.811759</td>\n",
       "      <td>0.271184</td>\n",
       "      <td>1.026189</td>\n",
       "      <td>0.981864</td>\n",
       "      <td>0.596847</td>\n",
       "      <td>0.811759</td>\n",
       "    </tr>\n",
       "  </tbody>\n",
       "</table>\n",
       "</div>"
      ],
      "text/plain": [
       "Billboard_ID        B1        B2        B3        B4        B5        B6  \\\n",
       "Advertiser_1  0.781141  0.415387  1.177574  1.149812  0.109806  0.576764   \n",
       "Advertiser_2  0.481319  0.222371  0.756305  0.740736 -0.009931  0.396434   \n",
       "Advertiser_3  0.534473  0.684422  0.439657  0.402334  0.999877 -0.094570   \n",
       "Advertiser_4  0.650153  0.793101  0.570907  0.527313  1.125118 -0.066808   \n",
       "Advertiser_5  0.862057  0.757279  1.026189  0.981864  0.811759  0.271184   \n",
       "\n",
       "Billboard_ID        B7        B8        B9       B10  \n",
       "Advertiser_1  1.177574  1.149812  0.847948  0.109806  \n",
       "Advertiser_2  0.756305  0.740736  0.560565 -0.009931  \n",
       "Advertiser_3  0.439657  0.402334  0.126315  0.999877  \n",
       "Advertiser_4  0.570907  0.527313  0.198402  1.125118  \n",
       "Advertiser_5  1.026189  0.981864  0.596847  0.811759  "
      ]
     },
     "execution_count": 27,
     "metadata": {},
     "output_type": "execute_result"
    }
   ],
   "source": [
    "predicted_df"
   ]
  },
  {
   "cell_type": "code",
   "execution_count": 31,
   "metadata": {},
   "outputs": [
    {
     "data": {
      "text/plain": [
       "Billboard_ID                   B3\n",
       "Latitude                37.226851\n",
       "Longitude             -121.561428\n",
       "Traffic_Volume              28728\n",
       "Footfall                    17972\n",
       "CTR                      4.504396\n",
       "Cost_Per_Impression      0.019804\n",
       "Competitor_Ads                  0\n",
       "Name: 2, dtype: object"
      ]
     },
     "execution_count": 31,
     "metadata": {},
     "output_type": "execute_result"
    }
   ],
   "source": [
    "predicted_df.loc['Advertiser_1'].idxmax()\n",
    "df[df['Billboard_ID'] == 'B3'].iloc[0]"
   ]
  },
  {
   "cell_type": "markdown",
   "metadata": {},
   "source": [
    "LLMs used to generate recommendations based on insights"
   ]
  },
  {
   "cell_type": "code",
   "execution_count": 28,
   "metadata": {},
   "outputs": [],
   "source": [
    "from langchain_groq import ChatGroq"
   ]
  },
  {
   "cell_type": "code",
   "execution_count": 42,
   "metadata": {},
   "outputs": [],
   "source": [
    "\n",
    "#llm=ChatGroq(groq_api_key=api_key,model_name=\"Gemma2-9b-It\")\n",
    "llm=ChatGroq(groq_api_key = \"gsk_\", model_name=\"Mixtral-8x7b-32768\")"
   ]
  },
  {
   "cell_type": "code",
   "execution_count": null,
   "metadata": {},
   "outputs": [],
   "source": [
    "def generate_llm_recommendation(advertiser):\n",
    "    best_billboard = predicted_df.loc[advertiser].idxmax()\n",
    "    billboard_data = df[df['Billboard_ID'] == best_billboard].iloc[0]\n",
    "    \n",
    "    prompt = f\"\"\"\n",
    "    Advertiser {advertiser} is looking for the best OOH media location.\n",
    "    Based on historical data, we recommend {best_billboard} with:\n",
    "    - Traffic Volume: {billboard_data['Traffic_Volume']}\n",
    "    - Footfall: {billboard_data['Footfall']}\n",
    "    - CTR: {round(billboard_data['CTR'], 2)}\n",
    "    - Cost per Impression: ${round(billboard_data['Cost_Per_Impression'], 4)}\n",
    "    - Competitor Ads Presence: {\"Yes\" if billboard_data['Competitor_Ads'] else \"No\"}\n",
    "\n",
    "    Provide a personalized ad placement strategy.\n",
    "    \"\"\"\n",
    "    try:\n",
    "        response = llm.generate(prompt)\n",
    "    except Exception as e:\n",
    "        response = f\"LLM Error: {e}\"\n",
    "\n",
    "    return response\n",
    "\n",
    "\n",
    "print(generate_llm_recommendation(\"Advertiser_1\"))\n",
    "\n"
   ]
  },
  {
   "cell_type": "code",
   "execution_count": null,
   "metadata": {},
   "outputs": [],
   "source": []
  },
  {
   "cell_type": "code",
   "execution_count": null,
   "metadata": {},
   "outputs": [],
   "source": []
  }
 ],
 "metadata": {
  "kernelspec": {
   "display_name": "base",
   "language": "python",
   "name": "python3"
  },
  "language_info": {
   "codemirror_mode": {
    "name": "ipython",
    "version": 3
   },
   "file_extension": ".py",
   "mimetype": "text/x-python",
   "name": "python",
   "nbconvert_exporter": "python",
   "pygments_lexer": "ipython3",
   "version": "3.12.7"
  }
 },
 "nbformat": 4,
 "nbformat_minor": 2
}
