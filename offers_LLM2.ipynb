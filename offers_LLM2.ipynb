{
 "cells": [
  {
   "cell_type": "code",
   "execution_count": 1,
   "metadata": {},
   "outputs": [],
   "source": [
    "import pandas as pd\n",
    "import numpy as np"
   ]
  },
  {
   "cell_type": "code",
   "execution_count": 3,
   "metadata": {},
   "outputs": [],
   "source": [
    "np.random.seed(123)"
   ]
  },
  {
   "cell_type": "code",
   "execution_count": 4,
   "metadata": {},
   "outputs": [],
   "source": [
    "num_customers = 10\n",
    "df = pd.DataFrame({\n",
    "    'Customer_ID': [f'C{i+1}' for i in range(num_customers)],\n",
    "    'Monthly_Calls': np.random.randint(100, 500, num_customers),\n",
    "    'Monthly_SMS': np.random.randint(50, 200, num_customers),\n",
    "    'Data_Usage_GB': np.random.uniform(5, 50, num_customers),\n",
    "    'Average_Bill': np.random.uniform(30, 150, num_customers),\n",
    "    'Subscription_Type': np.random.choice([0, 1], num_customers)  # 0: Prepaid, 1: Postpaid\n",
    "})"
   ]
  },
  {
   "cell_type": "code",
   "execution_count": 5,
   "metadata": {},
   "outputs": [],
   "source": [
    "from sklearn.preprocessing import MinMaxScaler\n",
    "from sklearn.metrics.pairwise import cosine_similarity"
   ]
  },
  {
   "cell_type": "code",
   "execution_count": 6,
   "metadata": {},
   "outputs": [
    {
     "data": {
      "text/plain": [
       "Index(['Customer_ID', 'Monthly_Calls', 'Monthly_SMS', 'Data_Usage_GB',\n",
       "       'Average_Bill', 'Subscription_Type'],\n",
       "      dtype='object')"
      ]
     },
     "execution_count": 6,
     "metadata": {},
     "output_type": "execute_result"
    }
   ],
   "source": [
    "df.columns"
   ]
  },
  {
   "cell_type": "code",
   "execution_count": 8,
   "metadata": {},
   "outputs": [],
   "source": [
    "scaler = MinMaxScaler()"
   ]
  },
  {
   "cell_type": "code",
   "execution_count": 7,
   "metadata": {},
   "outputs": [],
   "source": [
    "features = ['Monthly_Calls', 'Monthly_SMS', 'Data_Usage_GB','Average_Bill', 'Subscription_Type']"
   ]
  },
  {
   "cell_type": "code",
   "execution_count": 9,
   "metadata": {},
   "outputs": [],
   "source": [
    "df_scaled = scaler.fit_transform(df[features])"
   ]
  },
  {
   "cell_type": "markdown",
   "metadata": {},
   "source": [
    "### User Based "
   ]
  },
  {
   "cell_type": "code",
   "execution_count": 13,
   "metadata": {},
   "outputs": [
    {
     "data": {
      "text/html": [
       "<div>\n",
       "<style scoped>\n",
       "    .dataframe tbody tr th:only-of-type {\n",
       "        vertical-align: middle;\n",
       "    }\n",
       "\n",
       "    .dataframe tbody tr th {\n",
       "        vertical-align: top;\n",
       "    }\n",
       "\n",
       "    .dataframe thead th {\n",
       "        text-align: right;\n",
       "    }\n",
       "</style>\n",
       "<table border=\"1\" class=\"dataframe\">\n",
       "  <thead>\n",
       "    <tr style=\"text-align: right;\">\n",
       "      <th></th>\n",
       "      <th>Customer_ID</th>\n",
       "      <th>Monthly_Calls</th>\n",
       "      <th>Monthly_SMS</th>\n",
       "      <th>Data_Usage_GB</th>\n",
       "      <th>Average_Bill</th>\n",
       "      <th>Subscription_Type</th>\n",
       "    </tr>\n",
       "  </thead>\n",
       "  <tbody>\n",
       "    <tr>\n",
       "      <th>0</th>\n",
       "      <td>C1</td>\n",
       "      <td>465</td>\n",
       "      <td>146</td>\n",
       "      <td>31.725608</td>\n",
       "      <td>80.065194</td>\n",
       "      <td>0</td>\n",
       "    </tr>\n",
       "    <tr>\n",
       "      <th>1</th>\n",
       "      <td>C2</td>\n",
       "      <td>482</td>\n",
       "      <td>163</td>\n",
       "      <td>33.430641</td>\n",
       "      <td>108.566557</td>\n",
       "      <td>0</td>\n",
       "    </tr>\n",
       "    <tr>\n",
       "      <th>2</th>\n",
       "      <td>C3</td>\n",
       "      <td>422</td>\n",
       "      <td>176</td>\n",
       "      <td>24.811573</td>\n",
       "      <td>74.856171</td>\n",
       "      <td>1</td>\n",
       "    </tr>\n",
       "    <tr>\n",
       "      <th>3</th>\n",
       "      <td>C4</td>\n",
       "      <td>198</td>\n",
       "      <td>97</td>\n",
       "      <td>8.767692</td>\n",
       "      <td>58.141545</td>\n",
       "      <td>1</td>\n",
       "    </tr>\n",
       "    <tr>\n",
       "      <th>4</th>\n",
       "      <td>C5</td>\n",
       "      <td>330</td>\n",
       "      <td>123</td>\n",
       "      <td>37.054858</td>\n",
       "      <td>148.559434</td>\n",
       "      <td>1</td>\n",
       "    </tr>\n",
       "    <tr>\n",
       "      <th>5</th>\n",
       "      <td>C6</td>\n",
       "      <td>117</td>\n",
       "      <td>82</td>\n",
       "      <td>24.253857</td>\n",
       "      <td>121.919514</td>\n",
       "      <td>1</td>\n",
       "    </tr>\n",
       "    <tr>\n",
       "      <th>6</th>\n",
       "      <td>C7</td>\n",
       "      <td>183</td>\n",
       "      <td>161</td>\n",
       "      <td>18.400122</td>\n",
       "      <td>123.240533</td>\n",
       "      <td>0</td>\n",
       "    </tr>\n",
       "    <tr>\n",
       "      <th>7</th>\n",
       "      <td>C8</td>\n",
       "      <td>206</td>\n",
       "      <td>133</td>\n",
       "      <td>27.143815</td>\n",
       "      <td>33.357835</td>\n",
       "      <td>0</td>\n",
       "    </tr>\n",
       "    <tr>\n",
       "      <th>8</th>\n",
       "      <td>C9</td>\n",
       "      <td>223</td>\n",
       "      <td>128</td>\n",
       "      <td>38.313338</td>\n",
       "      <td>50.868782</td>\n",
       "      <td>0</td>\n",
       "    </tr>\n",
       "    <tr>\n",
       "      <th>9</th>\n",
       "      <td>C10</td>\n",
       "      <td>157</td>\n",
       "      <td>146</td>\n",
       "      <td>21.097801</td>\n",
       "      <td>48.489869</td>\n",
       "      <td>0</td>\n",
       "    </tr>\n",
       "  </tbody>\n",
       "</table>\n",
       "</div>"
      ],
      "text/plain": [
       "  Customer_ID  Monthly_Calls  Monthly_SMS  Data_Usage_GB  Average_Bill  \\\n",
       "0          C1            465          146      31.725608     80.065194   \n",
       "1          C2            482          163      33.430641    108.566557   \n",
       "2          C3            422          176      24.811573     74.856171   \n",
       "3          C4            198           97       8.767692     58.141545   \n",
       "4          C5            330          123      37.054858    148.559434   \n",
       "5          C6            117           82      24.253857    121.919514   \n",
       "6          C7            183          161      18.400122    123.240533   \n",
       "7          C8            206          133      27.143815     33.357835   \n",
       "8          C9            223          128      38.313338     50.868782   \n",
       "9         C10            157          146      21.097801     48.489869   \n",
       "\n",
       "   Subscription_Type  \n",
       "0                  0  \n",
       "1                  0  \n",
       "2                  1  \n",
       "3                  1  \n",
       "4                  1  \n",
       "5                  1  \n",
       "6                  0  \n",
       "7                  0  \n",
       "8                  0  \n",
       "9                  0  "
      ]
     },
     "execution_count": 13,
     "metadata": {},
     "output_type": "execute_result"
    }
   ],
   "source": [
    "df"
   ]
  },
  {
   "cell_type": "code",
   "execution_count": null,
   "metadata": {},
   "outputs": [],
   "source": [
    "similarity_matrix = cosine_similarity(df_scaled)"
   ]
  },
  {
   "cell_type": "code",
   "execution_count": 14,
   "metadata": {},
   "outputs": [],
   "source": [
    "similarity_df = pd.DataFrame(similarity_matrix, index = df['Customer_ID'], columns= df['Customer_ID'] )"
   ]
  },
  {
   "cell_type": "code",
   "execution_count": 15,
   "metadata": {},
   "outputs": [
    {
     "data": {
      "text/html": [
       "<div>\n",
       "<style scoped>\n",
       "    .dataframe tbody tr th:only-of-type {\n",
       "        vertical-align: middle;\n",
       "    }\n",
       "\n",
       "    .dataframe tbody tr th {\n",
       "        vertical-align: top;\n",
       "    }\n",
       "\n",
       "    .dataframe thead th {\n",
       "        text-align: right;\n",
       "    }\n",
       "</style>\n",
       "<table border=\"1\" class=\"dataframe\">\n",
       "  <thead>\n",
       "    <tr style=\"text-align: right;\">\n",
       "      <th>Customer_ID</th>\n",
       "      <th>C1</th>\n",
       "      <th>C2</th>\n",
       "      <th>C3</th>\n",
       "      <th>C4</th>\n",
       "      <th>C5</th>\n",
       "      <th>C6</th>\n",
       "      <th>C7</th>\n",
       "      <th>C8</th>\n",
       "      <th>C9</th>\n",
       "      <th>C10</th>\n",
       "    </tr>\n",
       "    <tr>\n",
       "      <th>Customer_ID</th>\n",
       "      <th></th>\n",
       "      <th></th>\n",
       "      <th></th>\n",
       "      <th></th>\n",
       "      <th></th>\n",
       "      <th></th>\n",
       "      <th></th>\n",
       "      <th></th>\n",
       "      <th></th>\n",
       "      <th></th>\n",
       "    </tr>\n",
       "  </thead>\n",
       "  <tbody>\n",
       "    <tr>\n",
       "      <th>C1</th>\n",
       "      <td>1.000000</td>\n",
       "      <td>0.990578</td>\n",
       "      <td>0.791131</td>\n",
       "      <td>0.263023</td>\n",
       "      <td>0.737213</td>\n",
       "      <td>0.359750</td>\n",
       "      <td>0.744924</td>\n",
       "      <td>0.861796</td>\n",
       "      <td>0.853168</td>\n",
       "      <td>0.791328</td>\n",
       "    </tr>\n",
       "    <tr>\n",
       "      <th>C2</th>\n",
       "      <td>0.990578</td>\n",
       "      <td>1.000000</td>\n",
       "      <td>0.797532</td>\n",
       "      <td>0.278904</td>\n",
       "      <td>0.767233</td>\n",
       "      <td>0.406281</td>\n",
       "      <td>0.826230</td>\n",
       "      <td>0.844661</td>\n",
       "      <td>0.837867</td>\n",
       "      <td>0.817653</td>\n",
       "    </tr>\n",
       "    <tr>\n",
       "      <th>C3</th>\n",
       "      <td>0.791131</td>\n",
       "      <td>0.797532</td>\n",
       "      <td>1.000000</td>\n",
       "      <td>0.760283</td>\n",
       "      <td>0.854556</td>\n",
       "      <td>0.646925</td>\n",
       "      <td>0.680275</td>\n",
       "      <td>0.712789</td>\n",
       "      <td>0.648396</td>\n",
       "      <td>0.725012</td>\n",
       "    </tr>\n",
       "    <tr>\n",
       "      <th>C4</th>\n",
       "      <td>0.263023</td>\n",
       "      <td>0.278904</td>\n",
       "      <td>0.760283</td>\n",
       "      <td>1.000000</td>\n",
       "      <td>0.719406</td>\n",
       "      <td>0.805834</td>\n",
       "      <td>0.267947</td>\n",
       "      <td>0.154402</td>\n",
       "      <td>0.142612</td>\n",
       "      <td>0.186454</td>\n",
       "    </tr>\n",
       "    <tr>\n",
       "      <th>C5</th>\n",
       "      <td>0.737213</td>\n",
       "      <td>0.767233</td>\n",
       "      <td>0.854556</td>\n",
       "      <td>0.719406</td>\n",
       "      <td>1.000000</td>\n",
       "      <td>0.895296</td>\n",
       "      <td>0.698753</td>\n",
       "      <td>0.609797</td>\n",
       "      <td>0.692542</td>\n",
       "      <td>0.588131</td>\n",
       "    </tr>\n",
       "    <tr>\n",
       "      <th>C6</th>\n",
       "      <td>0.359750</td>\n",
       "      <td>0.406281</td>\n",
       "      <td>0.646925</td>\n",
       "      <td>0.805834</td>\n",
       "      <td>0.895296</td>\n",
       "      <td>1.000000</td>\n",
       "      <td>0.467910</td>\n",
       "      <td>0.277321</td>\n",
       "      <td>0.404355</td>\n",
       "      <td>0.286606</td>\n",
       "    </tr>\n",
       "    <tr>\n",
       "      <th>C7</th>\n",
       "      <td>0.744924</td>\n",
       "      <td>0.826230</td>\n",
       "      <td>0.680275</td>\n",
       "      <td>0.267947</td>\n",
       "      <td>0.698753</td>\n",
       "      <td>0.467910</td>\n",
       "      <td>1.000000</td>\n",
       "      <td>0.677265</td>\n",
       "      <td>0.649108</td>\n",
       "      <td>0.843384</td>\n",
       "    </tr>\n",
       "    <tr>\n",
       "      <th>C8</th>\n",
       "      <td>0.861796</td>\n",
       "      <td>0.844661</td>\n",
       "      <td>0.712789</td>\n",
       "      <td>0.154402</td>\n",
       "      <td>0.609797</td>\n",
       "      <td>0.277321</td>\n",
       "      <td>0.677265</td>\n",
       "      <td>1.000000</td>\n",
       "      <td>0.959429</td>\n",
       "      <td>0.932882</td>\n",
       "    </tr>\n",
       "    <tr>\n",
       "      <th>C9</th>\n",
       "      <td>0.853168</td>\n",
       "      <td>0.837867</td>\n",
       "      <td>0.648396</td>\n",
       "      <td>0.142612</td>\n",
       "      <td>0.692542</td>\n",
       "      <td>0.404355</td>\n",
       "      <td>0.649108</td>\n",
       "      <td>0.959429</td>\n",
       "      <td>1.000000</td>\n",
       "      <td>0.846464</td>\n",
       "    </tr>\n",
       "    <tr>\n",
       "      <th>C10</th>\n",
       "      <td>0.791328</td>\n",
       "      <td>0.817653</td>\n",
       "      <td>0.725012</td>\n",
       "      <td>0.186454</td>\n",
       "      <td>0.588131</td>\n",
       "      <td>0.286606</td>\n",
       "      <td>0.843384</td>\n",
       "      <td>0.932882</td>\n",
       "      <td>0.846464</td>\n",
       "      <td>1.000000</td>\n",
       "    </tr>\n",
       "  </tbody>\n",
       "</table>\n",
       "</div>"
      ],
      "text/plain": [
       "Customer_ID        C1        C2        C3        C4        C5        C6  \\\n",
       "Customer_ID                                                               \n",
       "C1           1.000000  0.990578  0.791131  0.263023  0.737213  0.359750   \n",
       "C2           0.990578  1.000000  0.797532  0.278904  0.767233  0.406281   \n",
       "C3           0.791131  0.797532  1.000000  0.760283  0.854556  0.646925   \n",
       "C4           0.263023  0.278904  0.760283  1.000000  0.719406  0.805834   \n",
       "C5           0.737213  0.767233  0.854556  0.719406  1.000000  0.895296   \n",
       "C6           0.359750  0.406281  0.646925  0.805834  0.895296  1.000000   \n",
       "C7           0.744924  0.826230  0.680275  0.267947  0.698753  0.467910   \n",
       "C8           0.861796  0.844661  0.712789  0.154402  0.609797  0.277321   \n",
       "C9           0.853168  0.837867  0.648396  0.142612  0.692542  0.404355   \n",
       "C10          0.791328  0.817653  0.725012  0.186454  0.588131  0.286606   \n",
       "\n",
       "Customer_ID        C7        C8        C9       C10  \n",
       "Customer_ID                                          \n",
       "C1           0.744924  0.861796  0.853168  0.791328  \n",
       "C2           0.826230  0.844661  0.837867  0.817653  \n",
       "C3           0.680275  0.712789  0.648396  0.725012  \n",
       "C4           0.267947  0.154402  0.142612  0.186454  \n",
       "C5           0.698753  0.609797  0.692542  0.588131  \n",
       "C6           0.467910  0.277321  0.404355  0.286606  \n",
       "C7           1.000000  0.677265  0.649108  0.843384  \n",
       "C8           0.677265  1.000000  0.959429  0.932882  \n",
       "C9           0.649108  0.959429  1.000000  0.846464  \n",
       "C10          0.843384  0.932882  0.846464  1.000000  "
      ]
     },
     "execution_count": 15,
     "metadata": {},
     "output_type": "execute_result"
    }
   ],
   "source": [
    "similarity_df"
   ]
  },
  {
   "cell_type": "code",
   "execution_count": 17,
   "metadata": {},
   "outputs": [],
   "source": [
    "array = similarity_df.to_numpy()\n",
    "np.fill_diagonal(array,np.nan)\n",
    "df_replaced = pd.DataFrame(array, index = df['Customer_ID'], columns= df['Customer_ID'])"
   ]
  },
  {
   "cell_type": "code",
   "execution_count": 19,
   "metadata": {},
   "outputs": [
    {
     "data": {
      "text/html": [
       "<div>\n",
       "<style scoped>\n",
       "    .dataframe tbody tr th:only-of-type {\n",
       "        vertical-align: middle;\n",
       "    }\n",
       "\n",
       "    .dataframe tbody tr th {\n",
       "        vertical-align: top;\n",
       "    }\n",
       "\n",
       "    .dataframe thead th {\n",
       "        text-align: right;\n",
       "    }\n",
       "</style>\n",
       "<table border=\"1\" class=\"dataframe\">\n",
       "  <thead>\n",
       "    <tr style=\"text-align: right;\">\n",
       "      <th>Customer_ID</th>\n",
       "      <th>C1</th>\n",
       "      <th>C2</th>\n",
       "      <th>C3</th>\n",
       "      <th>C4</th>\n",
       "      <th>C5</th>\n",
       "      <th>C6</th>\n",
       "      <th>C7</th>\n",
       "      <th>C8</th>\n",
       "      <th>C9</th>\n",
       "      <th>C10</th>\n",
       "    </tr>\n",
       "    <tr>\n",
       "      <th>Customer_ID</th>\n",
       "      <th></th>\n",
       "      <th></th>\n",
       "      <th></th>\n",
       "      <th></th>\n",
       "      <th></th>\n",
       "      <th></th>\n",
       "      <th></th>\n",
       "      <th></th>\n",
       "      <th></th>\n",
       "      <th></th>\n",
       "    </tr>\n",
       "  </thead>\n",
       "  <tbody>\n",
       "    <tr>\n",
       "      <th>C1</th>\n",
       "      <td>NaN</td>\n",
       "      <td>0.990578</td>\n",
       "      <td>0.791131</td>\n",
       "      <td>0.263023</td>\n",
       "      <td>0.737213</td>\n",
       "      <td>0.359750</td>\n",
       "      <td>0.744924</td>\n",
       "      <td>0.861796</td>\n",
       "      <td>0.853168</td>\n",
       "      <td>0.791328</td>\n",
       "    </tr>\n",
       "    <tr>\n",
       "      <th>C2</th>\n",
       "      <td>0.990578</td>\n",
       "      <td>NaN</td>\n",
       "      <td>0.797532</td>\n",
       "      <td>0.278904</td>\n",
       "      <td>0.767233</td>\n",
       "      <td>0.406281</td>\n",
       "      <td>0.826230</td>\n",
       "      <td>0.844661</td>\n",
       "      <td>0.837867</td>\n",
       "      <td>0.817653</td>\n",
       "    </tr>\n",
       "    <tr>\n",
       "      <th>C3</th>\n",
       "      <td>0.791131</td>\n",
       "      <td>0.797532</td>\n",
       "      <td>NaN</td>\n",
       "      <td>0.760283</td>\n",
       "      <td>0.854556</td>\n",
       "      <td>0.646925</td>\n",
       "      <td>0.680275</td>\n",
       "      <td>0.712789</td>\n",
       "      <td>0.648396</td>\n",
       "      <td>0.725012</td>\n",
       "    </tr>\n",
       "    <tr>\n",
       "      <th>C4</th>\n",
       "      <td>0.263023</td>\n",
       "      <td>0.278904</td>\n",
       "      <td>0.760283</td>\n",
       "      <td>NaN</td>\n",
       "      <td>0.719406</td>\n",
       "      <td>0.805834</td>\n",
       "      <td>0.267947</td>\n",
       "      <td>0.154402</td>\n",
       "      <td>0.142612</td>\n",
       "      <td>0.186454</td>\n",
       "    </tr>\n",
       "    <tr>\n",
       "      <th>C5</th>\n",
       "      <td>0.737213</td>\n",
       "      <td>0.767233</td>\n",
       "      <td>0.854556</td>\n",
       "      <td>0.719406</td>\n",
       "      <td>NaN</td>\n",
       "      <td>0.895296</td>\n",
       "      <td>0.698753</td>\n",
       "      <td>0.609797</td>\n",
       "      <td>0.692542</td>\n",
       "      <td>0.588131</td>\n",
       "    </tr>\n",
       "    <tr>\n",
       "      <th>C6</th>\n",
       "      <td>0.359750</td>\n",
       "      <td>0.406281</td>\n",
       "      <td>0.646925</td>\n",
       "      <td>0.805834</td>\n",
       "      <td>0.895296</td>\n",
       "      <td>NaN</td>\n",
       "      <td>0.467910</td>\n",
       "      <td>0.277321</td>\n",
       "      <td>0.404355</td>\n",
       "      <td>0.286606</td>\n",
       "    </tr>\n",
       "    <tr>\n",
       "      <th>C7</th>\n",
       "      <td>0.744924</td>\n",
       "      <td>0.826230</td>\n",
       "      <td>0.680275</td>\n",
       "      <td>0.267947</td>\n",
       "      <td>0.698753</td>\n",
       "      <td>0.467910</td>\n",
       "      <td>NaN</td>\n",
       "      <td>0.677265</td>\n",
       "      <td>0.649108</td>\n",
       "      <td>0.843384</td>\n",
       "    </tr>\n",
       "    <tr>\n",
       "      <th>C8</th>\n",
       "      <td>0.861796</td>\n",
       "      <td>0.844661</td>\n",
       "      <td>0.712789</td>\n",
       "      <td>0.154402</td>\n",
       "      <td>0.609797</td>\n",
       "      <td>0.277321</td>\n",
       "      <td>0.677265</td>\n",
       "      <td>NaN</td>\n",
       "      <td>0.959429</td>\n",
       "      <td>0.932882</td>\n",
       "    </tr>\n",
       "    <tr>\n",
       "      <th>C9</th>\n",
       "      <td>0.853168</td>\n",
       "      <td>0.837867</td>\n",
       "      <td>0.648396</td>\n",
       "      <td>0.142612</td>\n",
       "      <td>0.692542</td>\n",
       "      <td>0.404355</td>\n",
       "      <td>0.649108</td>\n",
       "      <td>0.959429</td>\n",
       "      <td>NaN</td>\n",
       "      <td>0.846464</td>\n",
       "    </tr>\n",
       "    <tr>\n",
       "      <th>C10</th>\n",
       "      <td>0.791328</td>\n",
       "      <td>0.817653</td>\n",
       "      <td>0.725012</td>\n",
       "      <td>0.186454</td>\n",
       "      <td>0.588131</td>\n",
       "      <td>0.286606</td>\n",
       "      <td>0.843384</td>\n",
       "      <td>0.932882</td>\n",
       "      <td>0.846464</td>\n",
       "      <td>NaN</td>\n",
       "    </tr>\n",
       "  </tbody>\n",
       "</table>\n",
       "</div>"
      ],
      "text/plain": [
       "Customer_ID        C1        C2        C3        C4        C5        C6  \\\n",
       "Customer_ID                                                               \n",
       "C1                NaN  0.990578  0.791131  0.263023  0.737213  0.359750   \n",
       "C2           0.990578       NaN  0.797532  0.278904  0.767233  0.406281   \n",
       "C3           0.791131  0.797532       NaN  0.760283  0.854556  0.646925   \n",
       "C4           0.263023  0.278904  0.760283       NaN  0.719406  0.805834   \n",
       "C5           0.737213  0.767233  0.854556  0.719406       NaN  0.895296   \n",
       "C6           0.359750  0.406281  0.646925  0.805834  0.895296       NaN   \n",
       "C7           0.744924  0.826230  0.680275  0.267947  0.698753  0.467910   \n",
       "C8           0.861796  0.844661  0.712789  0.154402  0.609797  0.277321   \n",
       "C9           0.853168  0.837867  0.648396  0.142612  0.692542  0.404355   \n",
       "C10          0.791328  0.817653  0.725012  0.186454  0.588131  0.286606   \n",
       "\n",
       "Customer_ID        C7        C8        C9       C10  \n",
       "Customer_ID                                          \n",
       "C1           0.744924  0.861796  0.853168  0.791328  \n",
       "C2           0.826230  0.844661  0.837867  0.817653  \n",
       "C3           0.680275  0.712789  0.648396  0.725012  \n",
       "C4           0.267947  0.154402  0.142612  0.186454  \n",
       "C5           0.698753  0.609797  0.692542  0.588131  \n",
       "C6           0.467910  0.277321  0.404355  0.286606  \n",
       "C7                NaN  0.677265  0.649108  0.843384  \n",
       "C8           0.677265       NaN  0.959429  0.932882  \n",
       "C9           0.649108  0.959429       NaN  0.846464  \n",
       "C10          0.843384  0.932882  0.846464       NaN  "
      ]
     },
     "execution_count": 19,
     "metadata": {},
     "output_type": "execute_result"
    }
   ],
   "source": [
    "df_replaced"
   ]
  },
  {
   "cell_type": "code",
   "execution_count": 20,
   "metadata": {},
   "outputs": [
    {
     "data": {
      "text/plain": [
       "Customer_ID\n",
       "C1    C2\n",
       "C2    C1\n",
       "C3    C5\n",
       "C4    C6\n",
       "C5    C6\n",
       "dtype: object"
      ]
     },
     "execution_count": 20,
     "metadata": {},
     "output_type": "execute_result"
    }
   ],
   "source": [
    "df_replaced.idxmax(axis=1).head()"
   ]
  },
  {
   "cell_type": "markdown",
   "metadata": {},
   "source": [
    "### Item Based Similarity"
   ]
  },
  {
   "cell_type": "code",
   "execution_count": 21,
   "metadata": {},
   "outputs": [],
   "source": [
    "offers = pd.DataFrame({\n",
    "    'Offer_ID': ['O1', 'O2', 'O3', 'O4'],\n",
    "    'Discount': [5, 10, 15, 20],  # Percentage discount\n",
    "    'Extra_GB': [2, 5, 10, 15],   # Extra data provided\n",
    "    'Free_SMS': [50, 100, 200, 500],\n",
    "    'Monthly_Cost': [10, 20, 30, 50]\n",
    "})"
   ]
  },
  {
   "cell_type": "code",
   "execution_count": 24,
   "metadata": {},
   "outputs": [],
   "source": [
    "offers_scaled = scaler.fit_transform(offers.drop(columns= [\"Offer_ID\"]))"
   ]
  },
  {
   "cell_type": "code",
   "execution_count": 26,
   "metadata": {},
   "outputs": [],
   "source": [
    "offers_similarity = cosine_similarity(offers_scaled)"
   ]
  },
  {
   "cell_type": "code",
   "execution_count": 31,
   "metadata": {},
   "outputs": [],
   "source": [
    "np.fill_diagonal(offers_similarity, np.nan)\n",
    "offers_similarity_df = pd.DataFrame(offers_similarity, index = offers['Offer_ID'], columns= offers['Offer_ID'])"
   ]
  },
  {
   "cell_type": "code",
   "execution_count": 32,
   "metadata": {},
   "outputs": [
    {
     "data": {
      "text/plain": [
       "Offer_ID\n",
       "O1    O2\n",
       "O2    O3\n",
       "O3    O2\n",
       "O4    O3\n",
       "dtype: object"
      ]
     },
     "execution_count": 32,
     "metadata": {},
     "output_type": "execute_result"
    }
   ],
   "source": [
    "offers_similarity_df.idxmax(axis=1).head()"
   ]
  },
  {
   "cell_type": "code",
   "execution_count": 30,
   "metadata": {},
   "outputs": [
    {
     "data": {
      "text/plain": [
       "numpy.ndarray"
      ]
     },
     "execution_count": 30,
     "metadata": {},
     "output_type": "execute_result"
    }
   ],
   "source": [
    "type(offers_similarity)"
   ]
  },
  {
   "cell_type": "markdown",
   "metadata": {},
   "source": [
    "### Factors decomposiiton"
   ]
  },
  {
   "cell_type": "markdown",
   "metadata": {},
   "source": []
  },
  {
   "cell_type": "code",
   "execution_count": 33,
   "metadata": {},
   "outputs": [],
   "source": [
    "from sklearn.decomposition import TruncatedSVD"
   ]
  },
  {
   "cell_type": "code",
   "execution_count": 34,
   "metadata": {},
   "outputs": [],
   "source": [
    "interaction_matrix = np.random.randint(0,2,(num_customers, len(offers)))"
   ]
  },
  {
   "cell_type": "code",
   "execution_count": 35,
   "metadata": {},
   "outputs": [
    {
     "data": {
      "text/plain": [
       "array([[1, 1, 0, 0],\n",
       "       [0, 0, 1, 0],\n",
       "       [1, 1, 0, 1],\n",
       "       [1, 1, 0, 1],\n",
       "       [1, 1, 0, 0],\n",
       "       [0, 1, 0, 0],\n",
       "       [1, 1, 1, 0],\n",
       "       [1, 1, 0, 0],\n",
       "       [1, 1, 0, 1],\n",
       "       [1, 1, 1, 1]])"
      ]
     },
     "execution_count": 35,
     "metadata": {},
     "output_type": "execute_result"
    }
   ],
   "source": [
    "interaction_matrix"
   ]
  },
  {
   "cell_type": "code",
   "execution_count": 39,
   "metadata": {},
   "outputs": [],
   "source": [
    "svd = TruncatedSVD(n_components= 2)\n",
    "user_factors = svd.fit_transform(interaction_matrix)\n",
    "item_factors = svd.components_\n"
   ]
  },
  {
   "cell_type": "code",
   "execution_count": 40,
   "metadata": {},
   "outputs": [],
   "source": [
    "predicted_matrix = np.dot(user_factors, item_factors)"
   ]
  },
  {
   "cell_type": "code",
   "execution_count": 41,
   "metadata": {},
   "outputs": [
    {
     "data": {
      "text/plain": [
       "array([[ 0.8313468 ,  0.88420613,  0.06355284,  0.48842193],\n",
       "       [ 0.05058748,  0.01296536,  0.98546534, -0.10768572],\n",
       "       [ 1.06550123,  1.13847364, -0.04413289,  0.64356903],\n",
       "       [ 1.06550123,  1.13847364, -0.04413289,  0.64356903],\n",
       "       [ 0.8313468 ,  0.88420613,  0.06355284,  0.48842193],\n",
       "       [ 0.42808268,  0.45612345,  0.01296536,  0.25426751],\n",
       "       [ 0.88193428,  0.89717148,  1.04901817,  0.38073621],\n",
       "       [ 0.8313468 ,  0.88420613,  0.06355284,  0.48842193],\n",
       "       [ 1.06550123,  1.13847364, -0.04413289,  0.64356903],\n",
       "       [ 1.11608871,  1.15143899,  0.94133245,  0.53588331]])"
      ]
     },
     "execution_count": 41,
     "metadata": {},
     "output_type": "execute_result"
    }
   ],
   "source": [
    "predicted_matrix"
   ]
  },
  {
   "cell_type": "code",
   "execution_count": 55,
   "metadata": {},
   "outputs": [],
   "source": [
    "predicted_df = pd.DataFrame(predicted_matrix, index = df['Customer_ID'], columns= offers['Offer_ID'])"
   ]
  },
  {
   "cell_type": "code",
   "execution_count": 51,
   "metadata": {},
   "outputs": [],
   "source": [
    "from langchain_groq import ChatGroq"
   ]
  },
  {
   "cell_type": "code",
   "execution_count": 52,
   "metadata": {},
   "outputs": [],
   "source": [
    "api_key = \"gsk_\"\n",
    "llm=ChatGroq(groq_api_key=api_key,model_name=\"Gemma2-9b-It\")"
   ]
  },
  {
   "cell_type": "code",
   "execution_count": 59,
   "metadata": {},
   "outputs": [],
   "source": [
    "def generate_offer(customer):\n",
    "    similar_customer = similarity_df[customer].idxmax()\n",
    "    best_offer = predicted_df.loc[customer].idxmax()\n",
    "    customer_data = df[df['Customer_ID'] == customer].iloc[0]\n",
    "\n",
    "    prompt = f\"\"\"\n",
    "    Customer {customer} has a usage pattern similar to {similar_customer}.\n",
    "    They make {customer_data['Monthly_Calls']} calls, send {customer_data['Monthly_SMS']} SMS, \n",
    "    use {round(customer_data['Data_Usage_GB'], 2)} GB of data per month, \n",
    "    and pay an average bill of ${round(customer_data['Average_Bill'], 2)}.\n",
    "    Their subscription type is {\"Postpaid\" if customer_data['Subscription_Type'] == 1 else \"Prepaid\"}.\n",
    "\n",
    "    Based on past telecom offers, we recommend {best_offer}.\n",
    "\n",
    "    Suggest a personalized offer using historical data and behavioral patterns.\n",
    "\n",
    "\n",
    "    \"\"\"\n",
    "    try:\n",
    "        offer = llm(prompt)\n",
    "    except Exception as e:\n",
    "        offer = f\"Error generating offer: {e}\"\n",
    "\n",
    "    return offer"
   ]
  },
  {
   "cell_type": "code",
   "execution_count": null,
   "metadata": {},
   "outputs": [],
   "source": [
    "df['Recommended_Offer'] = df['Customer_ID'].apply(generate_offer)"
   ]
  },
  {
   "cell_type": "code",
   "execution_count": null,
   "metadata": {},
   "outputs": [],
   "source": []
  }
 ],
 "metadata": {
  "kernelspec": {
   "display_name": "base",
   "language": "python",
   "name": "python3"
  },
  "language_info": {
   "codemirror_mode": {
    "name": "ipython",
    "version": 3
   },
   "file_extension": ".py",
   "mimetype": "text/x-python",
   "name": "python",
   "nbconvert_exporter": "python",
   "pygments_lexer": "ipython3",
   "version": "3.12.7"
  }
 },
 "nbformat": 4,
 "nbformat_minor": 2
}
